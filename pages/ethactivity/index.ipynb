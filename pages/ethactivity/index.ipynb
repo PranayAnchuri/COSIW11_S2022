{
 "cells": [
  {
   "cell_type": "markdown",
   "id": "feba4a1e",
   "metadata": {
    "heading_collapsed": true,
    "slideshow": {
     "slide_type": "slide"
    }
   },
   "source": [
    "# Overview\n",
    "\n",
    "In today's session, groups of students will work on a few sample exercises to get familiarized with Ethereum transaction data.\n",
    "\n",
    "1. Form groups of 3-4\n",
    "2. Groups will work on Ethereum transactions between block 10230000 to 10240000.\n",
    "3. Every group starts with general data preparation and then selects a focus area : Sender analytics, Receiver analytics, Fee analytics, Block analytics\n",
    "4. We will reserve last 10 minutes for a short 2-3 minute presentation from each group\n"
   ]
  },
  {
   "cell_type": "markdown",
   "id": "b3f7b2a5",
   "metadata": {
    "slideshow": {
     "slide_type": "slide"
    }
   },
   "source": [
    "# Data Prep\n",
    "\n",
    "1. Load csv files to a dataframe or any other data structure of your choice\n",
    "2. Join individual dataframes to a single dataframe\n",
    "3. Data checks to ensure that the data is read correctly"
   ]
  },
  {
   "cell_type": "code",
   "execution_count": 1,
   "id": "33b2b43d",
   "metadata": {
    "ExecuteTime": {
     "end_time": "2022-02-09T03:48:33.164634Z",
     "start_time": "2022-02-09T03:48:33.160860Z"
    },
    "code_folding": [],
    "slideshow": {
     "slide_type": "subslide"
    }
   },
   "outputs": [],
   "source": [
    "# import packages\n",
    "import pandas as pd\n",
    "import os\n",
    "import matplotlib.pyplot as plt\n",
    "%matplotlib inline\n",
    "plt.style.use('fivethirtyeight')"
   ]
  },
  {
   "cell_type": "code",
   "execution_count": 2,
   "id": "49c8c30b",
   "metadata": {
    "ExecuteTime": {
     "end_time": "2022-02-09T03:48:33.172424Z",
     "start_time": "2022-02-09T03:48:33.166037Z"
    },
    "slideshow": {
     "slide_type": "subslide"
    }
   },
   "outputs": [],
   "source": [
    "# read files to individual dataframes and convert to a single dataframe\n",
    "# remove duplicate transactions"
   ]
  },
  {
   "cell_type": "code",
   "execution_count": 3,
   "id": "8b19aa6a",
   "metadata": {
    "ExecuteTime": {
     "end_time": "2022-02-09T03:48:40.009163Z",
     "start_time": "2022-02-09T03:48:33.173094Z"
    },
    "slideshow": {
     "slide_type": "fragment"
    }
   },
   "outputs": [],
   "source": [
    "path = \"./data\"\n",
    "dfs = []\n",
    "for f in os.listdir(path):\n",
    "    dfs.append(pd.read_csv(os.path.join(path, f)))\n",
    "df = pd.concat(dfs, axis=0, ignore_index=True)\n",
    "# Remove duplicate transactions\n",
    "df.drop_duplicates(\"Tx_Hash\", inplace=True)"
   ]
  },
  {
   "cell_type": "code",
   "execution_count": 4,
   "id": "1143ca8a",
   "metadata": {
    "ExecuteTime": {
     "end_time": "2022-02-09T03:48:40.012269Z",
     "start_time": "2022-02-09T03:48:40.010343Z"
    },
    "code_folding": [],
    "slideshow": {
     "slide_type": "subslide"
    }
   },
   "outputs": [],
   "source": [
    "# 1. What is the shape (number of rows and number of columns) of the combined dataframe"
   ]
  },
  {
   "cell_type": "code",
   "execution_count": 5,
   "id": "e1de258a",
   "metadata": {
    "slideshow": {
     "slide_type": "fragment"
    }
   },
   "outputs": [
    {
     "data": {
      "text/plain": [
       "(1464829, 12)"
      ]
     },
     "execution_count": 5,
     "metadata": {},
     "output_type": "execute_result"
    }
   ],
   "source": [
    "df.shape"
   ]
  },
  {
   "cell_type": "code",
   "execution_count": 6,
   "id": "1555ac09",
   "metadata": {
    "ExecuteTime": {
     "end_time": "2022-02-09T03:48:40.020172Z",
     "start_time": "2022-02-09T03:48:40.012921Z"
    },
    "slideshow": {
     "slide_type": "subslide"
    }
   },
   "outputs": [],
   "source": [
    "# 2. What is the minimum and maximum blocknumber"
   ]
  },
  {
   "cell_type": "code",
   "execution_count": 7,
   "id": "b63c33cd",
   "metadata": {
    "slideshow": {
     "slide_type": "fragment"
    }
   },
   "outputs": [
    {
     "name": "stdout",
     "output_type": "stream",
     "text": [
      "10230000\n",
      "10240000\n"
     ]
    }
   ],
   "source": [
    "print(df.Block_Number.min())\n",
    "print(df.Block_Number.max())"
   ]
  },
  {
   "cell_type": "code",
   "execution_count": 8,
   "id": "9ddf2a68",
   "metadata": {
    "slideshow": {
     "slide_type": "subslide"
    }
   },
   "outputs": [],
   "source": [
    "# 3. Is Tx_Hash column a primary key in this table ?"
   ]
  },
  {
   "cell_type": "code",
   "execution_count": 9,
   "id": "5ff64a58",
   "metadata": {
    "slideshow": {
     "slide_type": "fragment"
    }
   },
   "outputs": [
    {
     "data": {
      "text/plain": [
       "True"
      ]
     },
     "execution_count": 9,
     "metadata": {},
     "output_type": "execute_result"
    }
   ],
   "source": [
    "df.Tx_Hash.is_unique"
   ]
  },
  {
   "cell_type": "markdown",
   "id": "8205fd7d",
   "metadata": {
    "slideshow": {
     "slide_type": "slide"
    }
   },
   "source": [
    "# Focus area : Sender analytics\n",
    "Focus on the sender field (Tx_From) of each transaction and answer the following questions"
   ]
  },
  {
   "cell_type": "code",
   "execution_count": 10,
   "id": "74503aff",
   "metadata": {
    "ExecuteTime": {
     "end_time": "2022-02-09T03:48:40.025343Z",
     "start_time": "2022-02-09T03:48:40.021040Z"
    },
    "slideshow": {
     "slide_type": "subslide"
    }
   },
   "outputs": [],
   "source": [
    "# 1. For each unique address, calculate the number of times the address has initiated a transaction"
   ]
  },
  {
   "cell_type": "code",
   "execution_count": 11,
   "id": "91fa8ebc",
   "metadata": {
    "ExecuteTime": {
     "end_time": "2022-02-09T03:48:40.373335Z",
     "start_time": "2022-02-09T03:48:40.026256Z"
    },
    "slideshow": {
     "slide_type": "fragment"
    }
   },
   "outputs": [
    {
     "name": "stdout",
     "output_type": "stream",
     "text": [
      "ddd26c200bf6dbb775a9d91fc24b5ece5be7a45f    23257\n",
      "05b57d05b11436e828a43867cb95de4f589d0b9a    21032\n",
      "ea674fdde714fd979de3edf0f56aa9716b898ec8    20404\n",
      "00a2b2a9d01a80d1c0219a4b4bc6a02541e3eaa3    17955\n",
      "c6bd3edd07e294cb66b8318356d688b3516ea950    10723\n",
      "                                            ...  \n",
      "baaadb3abfb710059257fe0f7747eefe64c3c96e        1\n",
      "74a53970ae7ee05693c304078d66f386a5fb9db9        1\n",
      "a085935ed99e35874929572e8a75fb16d541e033        1\n",
      "c8546029ab197b4df699c980fe1c0ec5be7f1a28        1\n",
      "7594558a581c44eb1867bc513c5462a6c52890e4        1\n",
      "Name: Tx_From, Length: 421891, dtype: int64\n"
     ]
    }
   ],
   "source": [
    "print(df.Tx_From.value_counts())"
   ]
  },
  {
   "cell_type": "code",
   "execution_count": 12,
   "id": "f2bf0787",
   "metadata": {
    "ExecuteTime": {
     "end_time": "2022-02-09T03:48:40.375882Z",
     "start_time": "2022-02-09T03:48:40.374126Z"
    },
    "slideshow": {
     "slide_type": "subslide"
    }
   },
   "outputs": [],
   "source": [
    "# 2. Find the address with the most number of transactions"
   ]
  },
  {
   "cell_type": "code",
   "execution_count": 13,
   "id": "b06e78ea",
   "metadata": {
    "ExecuteTime": {
     "end_time": "2022-02-09T03:48:40.702751Z",
     "start_time": "2022-02-09T03:48:40.376708Z"
    },
    "slideshow": {
     "slide_type": "fragment"
    }
   },
   "outputs": [
    {
     "data": {
      "text/plain": [
       "'ddd26c200bf6dbb775a9d91fc24b5ece5be7a45f'"
      ]
     },
     "execution_count": 13,
     "metadata": {},
     "output_type": "execute_result"
    }
   ],
   "source": [
    "df.Tx_From.value_counts().idxmax()"
   ]
  },
  {
   "cell_type": "code",
   "execution_count": 14,
   "id": "aff5f9bb",
   "metadata": {
    "ExecuteTime": {
     "end_time": "2022-02-09T03:48:40.705896Z",
     "start_time": "2022-02-09T03:48:40.704193Z"
    },
    "slideshow": {
     "slide_type": "subslide"
    }
   },
   "outputs": [],
   "source": [
    "# 3a. What fraction of addresses have sent a single transaction\n"
   ]
  },
  {
   "cell_type": "code",
   "execution_count": 15,
   "id": "968f63bc",
   "metadata": {
    "ExecuteTime": {
     "end_time": "2022-02-09T03:48:41.270919Z",
     "start_time": "2022-02-09T03:48:40.706643Z"
    },
    "slideshow": {
     "slide_type": "fragment"
    }
   },
   "outputs": [
    {
     "data": {
      "text/plain": [
       "0.7419594160577021"
      ]
     },
     "execution_count": 15,
     "metadata": {},
     "output_type": "execute_result"
    }
   ],
   "source": [
    "(df.Tx_From.value_counts() == 1).where(lambda x: x).dropna().sum() / df.Tx_From.nunique()"
   ]
  },
  {
   "cell_type": "code",
   "execution_count": 16,
   "id": "2e2fd598",
   "metadata": {
    "ExecuteTime": {
     "end_time": "2022-02-09T03:48:41.273302Z",
     "start_time": "2022-02-09T03:48:41.271669Z"
    },
    "slideshow": {
     "slide_type": "subslide"
    }
   },
   "outputs": [],
   "source": [
    "# 3b. What fraction of addresses have sent two transactions\n"
   ]
  },
  {
   "cell_type": "code",
   "execution_count": 17,
   "id": "01458e36",
   "metadata": {
    "ExecuteTime": {
     "end_time": "2022-02-09T03:48:41.815011Z",
     "start_time": "2022-02-09T03:48:41.273898Z"
    },
    "slideshow": {
     "slide_type": "fragment"
    }
   },
   "outputs": [
    {
     "data": {
      "text/plain": [
       "0.13668459388799475"
      ]
     },
     "execution_count": 17,
     "metadata": {},
     "output_type": "execute_result"
    }
   ],
   "source": [
    "(df.Tx_From.value_counts() == 2).where(lambda x: x).dropna().sum() / df.Tx_From.nunique()"
   ]
  },
  {
   "cell_type": "code",
   "execution_count": 18,
   "id": "e10026a0",
   "metadata": {
    "ExecuteTime": {
     "end_time": "2022-02-09T03:48:41.817439Z",
     "start_time": "2022-02-09T03:48:41.815751Z"
    },
    "slideshow": {
     "slide_type": "subslide"
    }
   },
   "outputs": [],
   "source": [
    "# 4. Draw a graph with number of transactions sent by address on X-axis and Number of addresses on Y-axis"
   ]
  },
  {
   "cell_type": "code",
   "execution_count": 19,
   "id": "f3fc79fc",
   "metadata": {
    "ExecuteTime": {
     "end_time": "2022-02-09T03:48:42.222332Z",
     "start_time": "2022-02-09T03:48:41.818037Z"
    },
    "slideshow": {
     "slide_type": "fragment"
    }
   },
   "outputs": [
    {
     "data": {
      "text/plain": [
       "Text(0, 0.5, 'Number of addresses')"
      ]
     },
     "execution_count": 19,
     "metadata": {},
     "output_type": "execute_result"
    },
    {
     "data": {
      "image/png": "[encoded data removed]",
      "text/plain": [
       "<Figure size 432x288 with 1 Axes>"
      ]
     },
     "metadata": {},
     "output_type": "display_data"
    }
   ],
   "source": [
    "counts = df.Tx_From.value_counts()\n",
    "counts = counts[counts < 100].value_counts()\n",
    "plt.plot(counts.index, counts, 'o')\n",
    "plt.yscale('log') \n",
    "plt.xlabel(\"Number of transactions\")\n",
    "plt.ylabel(\"Number of addresses\")"
   ]
  },
  {
   "cell_type": "code",
   "execution_count": 20,
   "id": "8c858efb",
   "metadata": {
    "ExecuteTime": {
     "end_time": "2022-02-09T03:48:42.224801Z",
     "start_time": "2022-02-09T03:48:42.223086Z"
    },
    "slideshow": {
     "slide_type": "subslide"
    }
   },
   "outputs": [],
   "source": [
    "# 5. Can you think of any other sender metrics\n"
   ]
  },
  {
   "cell_type": "code",
   "execution_count": 21,
   "id": "a1911ddb",
   "metadata": {
    "ExecuteTime": {
     "end_time": "2022-02-09T03:49:07.610839Z",
     "start_time": "2022-02-09T03:48:42.225483Z"
    },
    "slideshow": {
     "slide_type": "fragment"
    }
   },
   "outputs": [
    {
     "name": "stdout",
     "output_type": "stream",
     "text": [
      "a7a7899d944fe658c4b0a1803bab2f490bd3849e 3652\n"
     ]
    }
   ],
   "source": [
    "# Most active sender : Activity of a sender is defined by the number of blocks in which user has sent a transaction\n",
    "num_active_blocks = df.groupby(\"Tx_From\").apply(lambda x: x.Block_Number.nunique())\n",
    "print(num_active_blocks.idxmax(), num_active_blocks.max())"
   ]
  },
  {
   "cell_type": "markdown",
   "id": "3cf213cc",
   "metadata": {
    "slideshow": {
     "slide_type": "slide"
    }
   },
   "source": [
    "# Focus area : Receiver analytics\n",
    "Focus on the sender field (Tx_To) of each transaction and answer the following questions"
   ]
  },
  {
   "cell_type": "code",
   "execution_count": 22,
   "id": "33829557",
   "metadata": {
    "ExecuteTime": {
     "end_time": "2022-02-09T03:49:07.613798Z",
     "start_time": "2022-02-09T03:49:07.611662Z"
    },
    "slideshow": {
     "slide_type": "subslide"
    }
   },
   "outputs": [],
   "source": [
    "# 1. For each unique address, calculate the ￼number of times the address has received a transaction"
   ]
  },
  {
   "cell_type": "code",
   "execution_count": 23,
   "id": "3fa7d251",
   "metadata": {
    "ExecuteTime": {
     "end_time": "2022-02-09T03:49:07.993536Z",
     "start_time": "2022-02-09T03:49:07.614697Z"
    },
    "slideshow": {
     "slide_type": "fragment"
    }
   },
   "outputs": [
    {
     "data": {
      "text/plain": [
       "dac17f958d2ee523a2206206994597c13d831ec7    324300\n",
       "5acc84a3e955bdd76467d3348077d003f00ffb97     27266\n",
       "912656188616e0184e3181f019022990a63280b1     24899\n",
       "8a91c9a16cd62693649d80afa85a09dbbdcb8508     24071\n",
       "860bd2dba9cd475a61e6d1b45e16c365f6d78f66     23863\n",
       "                                             ...  \n",
       "0a83eb3a6c5b357b1b07806238afa8198556e94b         1\n",
       "648d53ac6827f40ae4b597591aa809f6cc3b2ec1         1\n",
       "872a58ea4c1bef45012fde0da28b8b6e547e66c6         1\n",
       "9363ccba89926d51fe90e6b522df9a5943d12691         1\n",
       "50369d4bfaabc1ce19ae5cbf06e9e9525f476231         1\n",
       "Name: Tx_To, Length: 308314, dtype: int64"
      ]
     },
     "execution_count": 23,
     "metadata": {},
     "output_type": "execute_result"
    }
   ],
   "source": [
    "df.Tx_To.value_counts()"
   ]
  },
  {
   "cell_type": "code",
   "execution_count": 24,
   "id": "5fbe38f7",
   "metadata": {
    "ExecuteTime": {
     "end_time": "2022-02-09T03:49:07.996333Z",
     "start_time": "2022-02-09T03:49:07.994585Z"
    },
    "slideshow": {
     "slide_type": "subslide"
    }
   },
   "outputs": [],
   "source": [
    "# 2. Ethereum contract deployment transactions have an empty To value. How many contracts are deployed in this dataset ?"
   ]
  },
  {
   "cell_type": "code",
   "execution_count": 25,
   "id": "628c4ad1",
   "metadata": {
    "ExecuteTime": {
     "end_time": "2022-02-09T03:49:08.049119Z",
     "start_time": "2022-02-09T03:49:07.997373Z"
    },
    "slideshow": {
     "slide_type": "fragment"
    }
   },
   "outputs": [
    {
     "data": {
      "text/plain": [
       "3389"
      ]
     },
     "execution_count": 25,
     "metadata": {},
     "output_type": "execute_result"
    }
   ],
   "source": [
    "df.Tx_To.isna().sum()"
   ]
  },
  {
   "cell_type": "code",
   "execution_count": 26,
   "id": "69bafb2e",
   "metadata": {
    "ExecuteTime": {
     "end_time": "2022-02-09T03:49:08.051932Z",
     "start_time": "2022-02-09T03:49:08.050071Z"
    },
    "slideshow": {
     "slide_type": "subslide"
    }
   },
   "outputs": [],
   "source": [
    "# 3a. What fraction of addresses have received a single transaction\n"
   ]
  },
  {
   "cell_type": "code",
   "execution_count": 27,
   "id": "9e7e171a",
   "metadata": {
    "ExecuteTime": {
     "end_time": "2022-02-09T03:49:08.417184Z",
     "start_time": "2022-02-09T03:49:08.052748Z"
    },
    "slideshow": {
     "slide_type": "fragment"
    }
   },
   "outputs": [
    {
     "data": {
      "text/plain": [
       "0.7812879077823258"
      ]
     },
     "execution_count": 27,
     "metadata": {},
     "output_type": "execute_result"
    }
   ],
   "source": [
    "(df.Tx_To.value_counts() == 1).where(lambda x: x).dropna().sum() / df.Tx_To.nunique()"
   ]
  },
  {
   "cell_type": "code",
   "execution_count": 28,
   "id": "1737f3c6",
   "metadata": {
    "ExecuteTime": {
     "end_time": "2022-02-09T03:49:08.419943Z",
     "start_time": "2022-02-09T03:49:08.418403Z"
    },
    "slideshow": {
     "slide_type": "subslide"
    }
   },
   "outputs": [],
   "source": [
    "# 3b. What fraction of addresses have received two transactions"
   ]
  },
  {
   "cell_type": "code",
   "execution_count": 29,
   "id": "95f0b93a",
   "metadata": {
    "ExecuteTime": {
     "end_time": "2022-02-09T03:49:08.759189Z",
     "start_time": "2022-02-09T03:49:08.420734Z"
    },
    "slideshow": {
     "slide_type": "fragment"
    }
   },
   "outputs": [
    {
     "data": {
      "text/plain": [
       "0.13722373943447264"
      ]
     },
     "execution_count": 29,
     "metadata": {},
     "output_type": "execute_result"
    }
   ],
   "source": [
    "(df.Tx_To.value_counts() == 2).where(lambda x: x).dropna().sum() / df.Tx_To.nunique()"
   ]
  },
  {
   "cell_type": "code",
   "execution_count": 30,
   "id": "fcbca479",
   "metadata": {
    "ExecuteTime": {
     "end_time": "2022-02-09T03:49:08.761765Z",
     "start_time": "2022-02-09T03:49:08.760130Z"
    },
    "slideshow": {
     "slide_type": "subslide"
    }
   },
   "outputs": [],
   "source": [
    "# 4. Draw a graph with number of transactions sent to address on X-axis and Number of addresses on Y-axis"
   ]
  },
  {
   "cell_type": "code",
   "execution_count": 31,
   "id": "84754d33",
   "metadata": {
    "ExecuteTime": {
     "end_time": "2022-02-09T03:49:09.033406Z",
     "start_time": "2022-02-09T03:49:08.762490Z"
    },
    "slideshow": {
     "slide_type": "fragment"
    }
   },
   "outputs": [
    {
     "data": {
      "text/plain": [
       "Text(0, 0.5, 'Number of addresses')"
      ]
     },
     "execution_count": 31,
     "metadata": {},
     "output_type": "execute_result"
    },
    {
     "data": {
      "image/png": "[encoded data removed]",
      "text/plain": [
       "<Figure size 432x288 with 1 Axes>"
      ]
     },
     "metadata": {},
     "output_type": "display_data"
    }
   ],
   "source": [
    "counts = df.Tx_To.value_counts()\n",
    "counts = counts[counts < 100].value_counts()\n",
    "plt.plot(counts.index, counts, 'o')\n",
    "plt.yscale('log')\n",
    "plt.xlabel(\"Number of transactions\")\n",
    "plt.ylabel(\"Number of addresses\")"
   ]
  },
  {
   "cell_type": "code",
   "execution_count": 32,
   "id": "9817c668",
   "metadata": {
    "ExecuteTime": {
     "end_time": "2022-02-09T03:49:09.037312Z",
     "start_time": "2022-02-09T03:49:09.035496Z"
    },
    "slideshow": {
     "slide_type": "subslide"
    }
   },
   "outputs": [],
   "source": [
    "# 5. Can you think of any other receiver metrics\n"
   ]
  },
  {
   "cell_type": "code",
   "execution_count": 33,
   "id": "79b50fc1",
   "metadata": {
    "ExecuteTime": {
     "end_time": "2022-02-09T03:49:31.346566Z",
     "start_time": "2022-02-09T03:49:09.038152Z"
    },
    "slideshow": {
     "slide_type": "fragment"
    }
   },
   "outputs": [
    {
     "name": "stdout",
     "output_type": "stream",
     "text": [
      "dac17f958d2ee523a2206206994597c13d831ec7 116706\n"
     ]
    }
   ],
   "source": [
    "# Most popular receiver : Popularity of a receiver is defined by the number of unique addresses from which it received a transaction\n",
    "popularity = df.groupby(\"Tx_To\").apply(lambda x: x.Tx_From.nunique())\n",
    "print(popularity.idxmax(), popularity.max())\n",
    "# https://etherscan.io/address/0xdac17f958d2ee523a2206206994597c13d831ec7"
   ]
  },
  {
   "cell_type": "markdown",
   "id": "5a939c83",
   "metadata": {
    "ExecuteTime": {
     "end_time": "2022-02-09T02:45:22.103291Z",
     "start_time": "2022-02-09T02:45:22.100140Z"
    },
    "slideshow": {
     "slide_type": "slide"
    }
   },
   "source": [
    "# Focus area : Fee analytics\n",
    "\n",
    "Focus on  'Tx_Gas','Tx_GasPrice', 'Tx_Value', 'Tx_Nonce', 'Tx_Cost' fields of the dataframe"
   ]
  },
  {
   "cell_type": "code",
   "execution_count": 34,
   "id": "d96ca186",
   "metadata": {
    "ExecuteTime": {
     "end_time": "2022-02-09T03:49:31.349518Z",
     "start_time": "2022-02-09T03:49:31.347695Z"
    },
    "slideshow": {
     "slide_type": "subslide"
    }
   },
   "outputs": [],
   "source": [
    "# 1. Using the Tx_Value field, find the transaction (hash) with highest value"
   ]
  },
  {
   "cell_type": "code",
   "execution_count": 35,
   "id": "e87e57cc",
   "metadata": {
    "ExecuteTime": {
     "end_time": "2022-02-09T03:49:31.687560Z",
     "start_time": "2022-02-09T03:49:31.350276Z"
    },
    "slideshow": {
     "slide_type": "fragment"
    }
   },
   "outputs": [
    {
     "name": "stdout",
     "output_type": "stream",
     "text": [
      "Block_Number                                             10239450\n",
      "Tx_Hash         db46bcd9a9f7fce4a75c7a1835b6bcb1dfa3754cc905f2...\n",
      "Tx_From                  2a44ef8d80f1837ac03a1c7e26e58f354c2bac29\n",
      "Tx_To                    4f6742badb049791cd9a37ea913f2bac38d01279\n",
      "Tx_Data                                                       NaN\n",
      "Tx_Gas                                                      21000\n",
      "Tx_GasPrice                                           27500000000\n",
      "Tx_Tip                                                27500000000\n",
      "Tx_FeeCap                                             27500000000\n",
      "Tx_Value                                  66026000053160600000000\n",
      "Tx_Nonce                                                        2\n",
      "Tx_Cost                                   66026000630660600000000\n",
      "Name: 1082666, dtype: object\n",
      "db46bcd9a9f7fce4a75c7a1835b6bcb1dfa3754cc905f2a708a19d7c5530f4d4\n"
     ]
    }
   ],
   "source": [
    "tx = df.loc[df.Tx_Value.apply(lambda x: float(x)).idxmax()]\n",
    "print(tx)\n",
    "print(tx.Tx_Hash)"
   ]
  },
  {
   "cell_type": "code",
   "execution_count": 36,
   "id": "a5ff33d3",
   "metadata": {
    "ExecuteTime": {
     "end_time": "2022-02-09T03:49:31.690537Z",
     "start_time": "2022-02-09T03:49:31.688947Z"
    },
    "slideshow": {
     "slide_type": "subslide"
    }
   },
   "outputs": [],
   "source": [
    "# 2. Using etherscan.io and coinmarketcap.com, find the dollar amount of the above transaction then and today"
   ]
  },
  {
   "cell_type": "code",
   "execution_count": 37,
   "id": "9cef53a2",
   "metadata": {
    "ExecuteTime": {
     "end_time": "2022-02-09T03:49:31.699151Z",
     "start_time": "2022-02-09T03:49:31.691348Z"
    },
    "slideshow": {
     "slide_type": "fragment"
    }
   },
   "outputs": [
    {
     "data": {
      "text/plain": [
       "203029950.16346887"
      ]
     },
     "execution_count": 37,
     "metadata": {},
     "output_type": "execute_result"
    }
   ],
   "source": [
    "#https://etherscan.io/tx/0xdb46bcd9a9f7fce4a75c7a1835b6bcb1dfa3754cc905f2a708a19d7c5530f4d4\n",
    "3075 * 66026.0000531606"
   ]
  },
  {
   "cell_type": "code",
   "execution_count": 38,
   "id": "70e73ab9",
   "metadata": {
    "ExecuteTime": {
     "end_time": "2022-02-09T03:49:31.704149Z",
     "start_time": "2022-02-09T03:49:31.700113Z"
    },
    "slideshow": {
     "slide_type": "subslide"
    }
   },
   "outputs": [],
   "source": [
    "# 3. Find the most common Gas cost ? What kind of transaction does it represent ?"
   ]
  },
  {
   "cell_type": "code",
   "execution_count": 39,
   "id": "6dc53ffb",
   "metadata": {
    "ExecuteTime": {
     "end_time": "2022-02-09T03:49:31.725570Z",
     "start_time": "2022-02-09T03:49:31.705334Z"
    },
    "slideshow": {
     "slide_type": "fragment"
    }
   },
   "outputs": [
    {
     "data": {
      "text/plain": [
       "21000"
      ]
     },
     "execution_count": 39,
     "metadata": {},
     "output_type": "execute_result"
    }
   ],
   "source": [
    "df.Tx_Gas.value_counts().idxmax()\n",
    "# Gas cost for simple transfers"
   ]
  },
  {
   "cell_type": "code",
   "execution_count": 40,
   "id": "e63b393a",
   "metadata": {
    "ExecuteTime": {
     "end_time": "2022-02-09T03:49:31.728342Z",
     "start_time": "2022-02-09T03:49:31.726558Z"
    },
    "slideshow": {
     "slide_type": "subslide"
    }
   },
   "outputs": [],
   "source": [
    "# 4. Find the transaction with highest fee and what is it's cost today ?"
   ]
  },
  {
   "cell_type": "code",
   "execution_count": 41,
   "id": "73650cc6",
   "metadata": {
    "ExecuteTime": {
     "end_time": "2022-02-09T03:49:31.736139Z",
     "start_time": "2022-02-09T03:49:31.729144Z"
    },
    "slideshow": {
     "slide_type": "fragment"
    }
   },
   "outputs": [
    {
     "data": {
      "text/plain": [
       "'ca8f8c315c8b6c48cee0675677b786d1babe726773829a588efa500b71cbdb65'"
      ]
     },
     "execution_count": 41,
     "metadata": {},
     "output_type": "execute_result"
    }
   ],
   "source": [
    "df.loc[df.Tx_GasPrice.idxmax()].Tx_Hash\n",
    "#https://etherscan.io/tx/0xca8f8c315c8b6c48cee0675677b786d1babe726773829a588efa500b71cbdb65"
   ]
  },
  {
   "cell_type": "code",
   "execution_count": 42,
   "id": "18e2d6b8",
   "metadata": {
    "ExecuteTime": {
     "end_time": "2022-02-09T03:49:31.739092Z",
     "start_time": "2022-02-09T03:49:31.737381Z"
    },
    "slideshow": {
     "slide_type": "subslide"
    }
   },
   "outputs": [],
   "source": [
    "# 5. Do you think the above transaction is an outlier ? Can you come up with a theory to explain this transaction ?"
   ]
  },
  {
   "cell_type": "code",
   "execution_count": 43,
   "id": "93f13931",
   "metadata": {
    "ExecuteTime": {
     "end_time": "2022-02-09T03:49:31.744014Z",
     "start_time": "2022-02-09T03:49:31.740315Z"
    },
    "slideshow": {
     "slide_type": "subslide"
    }
   },
   "outputs": [],
   "source": [
    "# 6. Find the block with highest average gas price. Does it have the above transaction ?"
   ]
  },
  {
   "cell_type": "code",
   "execution_count": 44,
   "id": "04c894f5",
   "metadata": {
    "slideshow": {
     "slide_type": "fragment"
    }
   },
   "outputs": [
    {
     "data": {
      "text/plain": [
       "10237208"
      ]
     },
     "execution_count": 44,
     "metadata": {},
     "output_type": "execute_result"
    }
   ],
   "source": [
    "df.groupby(\"Block_Number\")[\"Tx_GasPrice\"].mean().idxmax()"
   ]
  },
  {
   "cell_type": "markdown",
   "id": "bc3ee739",
   "metadata": {
    "slideshow": {
     "slide_type": "slide"
    }
   },
   "source": [
    "# Block analytics\n",
    "\n",
    "Group by \"Block_Number\" to get block level stats df.func_hash.value_counts().idxmax() df.func_hash.value_counts().idxmax()"
   ]
  },
  {
   "cell_type": "code",
   "execution_count": 45,
   "id": "071661dd",
   "metadata": {
    "ExecuteTime": {
     "end_time": "2022-02-09T03:49:31.749206Z",
     "start_time": "2022-02-09T03:49:31.744778Z"
    },
    "slideshow": {
     "slide_type": "subslide"
    }
   },
   "outputs": [],
   "source": [
    "#1. Find the block with highest number of transactions and how many transactions does it have"
   ]
  },
  {
   "cell_type": "code",
   "execution_count": 46,
   "id": "1e99eb82",
   "metadata": {
    "ExecuteTime": {
     "end_time": "2022-02-09T03:49:31.775856Z",
     "start_time": "2022-02-09T03:49:31.749923Z"
    },
    "slideshow": {
     "slide_type": "fragment"
    }
   },
   "outputs": [
    {
     "name": "stdout",
     "output_type": "stream",
     "text": [
      "10235430\n",
      "473\n"
     ]
    }
   ],
   "source": [
    "idx = df.groupby(\"Block_Number\").size().idxmax()\n",
    "print(idx)\n",
    "print(len(df[df.Block_Number == idx]))"
   ]
  },
  {
   "cell_type": "code",
   "execution_count": 47,
   "id": "42bfce18",
   "metadata": {
    "ExecuteTime": {
     "end_time": "2022-02-09T03:49:31.778541Z",
     "start_time": "2022-02-09T03:49:31.776813Z"
    },
    "slideshow": {
     "slide_type": "subslide"
    }
   },
   "outputs": [],
   "source": [
    "#2. Find the block with least number of transactions and how many transactions does it have"
   ]
  },
  {
   "cell_type": "code",
   "execution_count": 48,
   "id": "77fe1324",
   "metadata": {
    "ExecuteTime": {
     "end_time": "2022-02-09T03:49:31.800821Z",
     "start_time": "2022-02-09T03:49:31.779291Z"
    },
    "slideshow": {
     "slide_type": "fragment"
    }
   },
   "outputs": [
    {
     "name": "stdout",
     "output_type": "stream",
     "text": [
      "10231550\n",
      "2\n"
     ]
    }
   ],
   "source": [
    "idx = df.groupby(\"Block_Number\").size().idxmin()\n",
    "print(idx)\n",
    "print(len(df[df.Block_Number == idx]))"
   ]
  },
  {
   "cell_type": "code",
   "execution_count": 49,
   "id": "88971a91",
   "metadata": {
    "ExecuteTime": {
     "end_time": "2022-02-09T03:49:31.803486Z",
     "start_time": "2022-02-09T03:49:31.801821Z"
    },
    "slideshow": {
     "slide_type": "subslide"
    }
   },
   "outputs": [],
   "source": [
    "# 3. Using etherscan.io, find the average block time during this period"
   ]
  },
  {
   "cell_type": "code",
   "execution_count": 50,
   "id": "c02a266f",
   "metadata": {
    "ExecuteTime": {
     "end_time": "2022-02-09T03:49:31.824863Z",
     "start_time": "2022-02-09T03:49:31.804209Z"
    },
    "slideshow": {
     "slide_type": "fragment"
    }
   },
   "outputs": [
    {
     "name": "stdout",
     "output_type": "stream",
     "text": [
      "0 days 00:00:14.054503609\n"
     ]
    }
   ],
   "source": [
    "nblocks = df.groupby(\"Block_Number\").size()\n",
    "timediff =  pd.to_datetime(\"Jun-10-2020 08:03:26 PM\") - pd.to_datetime(\"Jun-09-2020 06:44:19 AM\")\n",
    "print( timediff / len(nblocks))"
   ]
  },
  {
   "cell_type": "code",
   "execution_count": 51,
   "id": "caa17151",
   "metadata": {
    "ExecuteTime": {
     "end_time": "2022-02-09T03:49:31.827635Z",
     "start_time": "2022-02-09T03:49:31.825958Z"
    },
    "slideshow": {
     "slide_type": "subslide"
    }
   },
   "outputs": [],
   "source": [
    "# 4. The first 8 characters (if its exists) of Tx_Data is the keccak256 hash of the function that is invoked in the transaction. Use https://www.4byte.directory/signatures/ to find a signature of the most common function during this time."
   ]
  },
  {
   "cell_type": "code",
   "execution_count": 52,
   "id": "51b009b8",
   "metadata": {
    "ExecuteTime": {
     "end_time": "2022-02-09T03:49:32.201397Z",
     "start_time": "2022-02-09T03:49:31.828652Z"
    },
    "slideshow": {
     "slide_type": "fragment"
    }
   },
   "outputs": [
    {
     "data": {
      "text/plain": [
       "'a9059cbb'"
      ]
     },
     "execution_count": 52,
     "metadata": {},
     "output_type": "execute_result"
    }
   ],
   "source": [
    "import numpy as np\n",
    "df[\"func_hash\"] = df.Tx_Data.apply(lambda x: x[:8] if not isinstance(x, float) else np.nan)\n",
    "df.func_hash.value_counts().idxmax()              "
   ]
  },
  {
   "cell_type": "code",
   "execution_count": null,
   "id": "849140bf",
   "metadata": {},
   "outputs": [],
   "source": []
  }
 ],
 "metadata": {
  "celltoolbar": "Slideshow",
  "kernelspec": {
   "display_name": "Python [conda env:pds] *",
   "language": "python",
   "name": "conda-env-pds-py"
  },
  "language_info": {
   "codemirror_mode": {
    "name": "ipython",
    "version": 3
   },
   "file_extension": ".py",
   "mimetype": "text/x-python",
   "name": "python",
   "nbconvert_exporter": "python",
   "pygments_lexer": "ipython3",
   "version": "3.7.12"
  },
  "toc": {
   "base_numbering": 1,
   "nav_menu": {},
   "number_sections": true,
   "sideBar": true,
   "skip_h1_title": false,
   "title_cell": "Table of Contents",
   "title_sidebar": "Contents",
   "toc_cell": false,
   "toc_position": {
    "height": "calc(100% - 180px)",
    "left": "10px",
    "top": "150px",
    "width": "510.391px"
   },
   "toc_section_display": true,
   "toc_window_display": false
  }
 },
 "nbformat": 4,
 "nbformat_minor": 5
}
