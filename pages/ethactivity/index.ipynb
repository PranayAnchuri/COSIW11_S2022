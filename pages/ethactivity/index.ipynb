{
 "cells": [
  {
   "cell_type": "markdown",
   "id": "feba4a1e",
   "metadata": {},
   "source": [
    "# Overview\n",
    "\n",
    "In today's session, groups of students will work on a few sample exercises to get familiarized with Ethereum transaction data.\n",
    "\n",
    "1. Form groups of 3-4\n",
    "2. Groups will work on Ethereum transactions between block 10230000 to 10240000.\n",
    "3. Every group starts with general data preparation and then selects a focus area : Sender analytics, Receiver analytics, Fee analytics, Block analytics\n",
    "4. We will reserve last 10 minutes for a short 2-3 minute presentation from each group\n"
   ]
  },
  {
   "cell_type": "markdown",
   "id": "b3f7b2a5",
   "metadata": {},
   "source": [
    "# Data Prep\n",
    "\n",
    "1. Load csv files to a dataframe or any other data structure of your choice\n",
    "2. Join individual dataframes to a single dataframe\n",
    "3. Data checks to ensure that the data is read correctly"
   ]
  },
  {
   "cell_type": "code",
   "execution_count": 14,
   "id": "33b2b43d",
   "metadata": {
    "ExecuteTime": {
     "end_time": "2022-02-09T03:48:33.164634Z",
     "start_time": "2022-02-09T03:48:33.160860Z"
    }
   },
   "outputs": [],
   "source": [
    "# import packages\n",
    "import pandas as pd\n",
    "import os\n",
    "import matplotlib.pyplot as plt\n",
    "%matplotlib inline"
   ]
  },
  {
   "cell_type": "code",
   "execution_count": 15,
   "id": "49c8c30b",
   "metadata": {
    "ExecuteTime": {
     "end_time": "2022-02-09T03:48:33.172424Z",
     "start_time": "2022-02-09T03:48:33.166037Z"
    }
   },
   "outputs": [],
   "source": [
    "# read files to individual dataframes and convert to a single dataframe\n",
    "# remove duplicate transactions"
   ]
  },
  {
   "cell_type": "code",
   "execution_count": 16,
   "id": "8b19aa6a",
   "metadata": {
    "ExecuteTime": {
     "end_time": "2022-02-09T03:48:40.009163Z",
     "start_time": "2022-02-09T03:48:33.173094Z"
    }
   },
   "outputs": [],
   "source": [
    "path = \"./data\"\n",
    "dfs = []\n",
    "for f in os.listdir(path):\n",
    "    dfs.append(pd.read_csv(os.path.join(path, f)))\n",
    "df = pd.concat(dfs, axis=0, ignore_index=True)\n",
    "# Remove duplicate transactions\n",
    "df.drop_duplicates(\"Tx_Hash\", inplace=True)"
   ]
  },
  {
   "cell_type": "code",
   "execution_count": 17,
   "id": "1143ca8a",
   "metadata": {
    "ExecuteTime": {
     "end_time": "2022-02-09T03:48:40.012269Z",
     "start_time": "2022-02-09T03:48:40.010343Z"
    },
    "code_folding": []
   },
   "outputs": [],
   "source": [
    "# 1. What is the shape (number of rows and number of columns) of the combined dataframe"
   ]
  },
  {
   "cell_type": "code",
   "execution_count": 19,
   "id": "1555ac09",
   "metadata": {
    "ExecuteTime": {
     "end_time": "2022-02-09T03:48:40.020172Z",
     "start_time": "2022-02-09T03:48:40.012921Z"
    }
   },
   "outputs": [],
   "source": [
    "# 2. What is the minimum and maximum blocknumber"
   ]
  },
  {
   "cell_type": "code",
   "execution_count": 21,
   "id": "dfbe3082",
   "metadata": {},
   "outputs": [],
   "source": [
    "# 3. Is Tx_Hash column a primary key in this table ?"
   ]
  },
  {
   "cell_type": "markdown",
   "id": "8205fd7d",
   "metadata": {},
   "source": [
    "# Focus area : Sender analytics\n",
    "Focus on the sender field (Tx_From) of each transaction and answer the following questions"
   ]
  },
  {
   "cell_type": "code",
   "execution_count": 23,
   "id": "74503aff",
   "metadata": {
    "ExecuteTime": {
     "end_time": "2022-02-09T03:48:40.025343Z",
     "start_time": "2022-02-09T03:48:40.021040Z"
    }
   },
   "outputs": [],
   "source": [
    "# 1. For each unique address, calculate the number of times the address has initiated a transaction"
   ]
  },
  {
   "cell_type": "code",
   "execution_count": 25,
   "id": "f2bf0787",
   "metadata": {
    "ExecuteTime": {
     "end_time": "2022-02-09T03:48:40.375882Z",
     "start_time": "2022-02-09T03:48:40.374126Z"
    }
   },
   "outputs": [],
   "source": [
    "# 2. Find the address with the most number of transactions"
   ]
  },
  {
   "cell_type": "code",
   "execution_count": 27,
   "id": "aff5f9bb",
   "metadata": {
    "ExecuteTime": {
     "end_time": "2022-02-09T03:48:40.705896Z",
     "start_time": "2022-02-09T03:48:40.704193Z"
    }
   },
   "outputs": [],
   "source": [
    "# 3a. What fraction of addresses have sent a single transaction\n"
   ]
  },
  {
   "cell_type": "code",
   "execution_count": 29,
   "id": "2e2fd598",
   "metadata": {
    "ExecuteTime": {
     "end_time": "2022-02-09T03:48:41.273302Z",
     "start_time": "2022-02-09T03:48:41.271669Z"
    }
   },
   "outputs": [],
   "source": [
    "# 3b. What fraction of addresses have sent two transactions\n"
   ]
  },
  {
   "cell_type": "code",
   "execution_count": 31,
   "id": "e10026a0",
   "metadata": {
    "ExecuteTime": {
     "end_time": "2022-02-09T03:48:41.817439Z",
     "start_time": "2022-02-09T03:48:41.815751Z"
    }
   },
   "outputs": [],
   "source": [
    "# 4. Draw a graph with number of transactions sent by address on X-axis and Number of addresses on Y-axis"
   ]
  },
  {
   "cell_type": "code",
   "execution_count": 33,
   "id": "8c858efb",
   "metadata": {
    "ExecuteTime": {
     "end_time": "2022-02-09T03:48:42.224801Z",
     "start_time": "2022-02-09T03:48:42.223086Z"
    }
   },
   "outputs": [],
   "source": [
    "# 5. Can you think of any other sender metrics\n"
   ]
  },
  {
   "cell_type": "markdown",
   "id": "3cf213cc",
   "metadata": {},
   "source": [
    "# Focus area : Receiver analytics\n",
    "Focus on the sender field (Tx_To) of each transaction and answer the following questions"
   ]
  },
  {
   "cell_type": "code",
   "execution_count": 36,
   "id": "33829557",
   "metadata": {
    "ExecuteTime": {
     "end_time": "2022-02-09T03:49:07.613798Z",
     "start_time": "2022-02-09T03:49:07.611662Z"
    }
   },
   "outputs": [],
   "source": [
    "# 1. For each unique address, calculate the ￼number of times the address has received a transaction"
   ]
  },
  {
   "cell_type": "code",
   "execution_count": 38,
   "id": "5fbe38f7",
   "metadata": {
    "ExecuteTime": {
     "end_time": "2022-02-09T03:49:07.996333Z",
     "start_time": "2022-02-09T03:49:07.994585Z"
    }
   },
   "outputs": [],
   "source": [
    "# 2. Ethereum contract deployment transactions have an empty To value. How many contracts are deployed in this dataset ?"
   ]
  },
  {
   "cell_type": "code",
   "execution_count": 40,
   "id": "69bafb2e",
   "metadata": {
    "ExecuteTime": {
     "end_time": "2022-02-09T03:49:08.051932Z",
     "start_time": "2022-02-09T03:49:08.050071Z"
    }
   },
   "outputs": [],
   "source": [
    "# 3a. What fraction of addresses have received a single transaction\n"
   ]
  },
  {
   "cell_type": "code",
   "execution_count": 42,
   "id": "1737f3c6",
   "metadata": {
    "ExecuteTime": {
     "end_time": "2022-02-09T03:49:08.419943Z",
     "start_time": "2022-02-09T03:49:08.418403Z"
    }
   },
   "outputs": [],
   "source": [
    "# 3b. What fraction of addresses have received two transactions df.func_hash.value_counts().idxmax()"
   ]
  },
  {
   "cell_type": "code",
   "execution_count": 44,
   "id": "fcbca479",
   "metadata": {
    "ExecuteTime": {
     "end_time": "2022-02-09T03:49:08.761765Z",
     "start_time": "2022-02-09T03:49:08.760130Z"
    }
   },
   "outputs": [],
   "source": [
    "# 4. Draw a graph with number of transactions sent to address on X-axis and Number of addresses on Y-axis"
   ]
  },
  {
   "cell_type": "code",
   "execution_count": 47,
   "id": "9817c668",
   "metadata": {
    "ExecuteTime": {
     "end_time": "2022-02-09T03:49:09.037312Z",
     "start_time": "2022-02-09T03:49:09.035496Z"
    }
   },
   "outputs": [],
   "source": [
    "# 5. Can you think of any other receiver metrics\n"
   ]
  },
  {
   "cell_type": "markdown",
   "id": "5a939c83",
   "metadata": {
    "ExecuteTime": {
     "end_time": "2022-02-09T02:45:22.103291Z",
     "start_time": "2022-02-09T02:45:22.100140Z"
    }
   },
   "source": [
    "# Focus area : Fee analytics\n",
    "\n",
    "Focus on  'Tx_Gas','Tx_GasPrice', 'Tx_Value', 'Tx_Nonce', 'Tx_Cost' fields of the dataframe"
   ]
  },
  {
   "cell_type": "code",
   "execution_count": 49,
   "id": "d96ca186",
   "metadata": {
    "ExecuteTime": {
     "end_time": "2022-02-09T03:49:31.349518Z",
     "start_time": "2022-02-09T03:49:31.347695Z"
    }
   },
   "outputs": [],
   "source": [
    "# 1. Using the Tx_Value field, find the transaction (hash) with highest value"
   ]
  },
  {
   "cell_type": "code",
   "execution_count": 51,
   "id": "a5ff33d3",
   "metadata": {
    "ExecuteTime": {
     "end_time": "2022-02-09T03:49:31.690537Z",
     "start_time": "2022-02-09T03:49:31.688947Z"
    }
   },
   "outputs": [],
   "source": [
    "# 2. Using etherscan.io and coinmarketcap.com, find the dollar amount of the above transaction then and today"
   ]
  },
  {
   "cell_type": "code",
   "execution_count": 53,
   "id": "70e73ab9",
   "metadata": {
    "ExecuteTime": {
     "end_time": "2022-02-09T03:49:31.704149Z",
     "start_time": "2022-02-09T03:49:31.700113Z"
    }
   },
   "outputs": [],
   "source": [
    "# 3. Find the most common Gas cost ? What kind of transaction does it represent ?"
   ]
  },
  {
   "cell_type": "code",
   "execution_count": 55,
   "id": "e63b393a",
   "metadata": {
    "ExecuteTime": {
     "end_time": "2022-02-09T03:49:31.728342Z",
     "start_time": "2022-02-09T03:49:31.726558Z"
    }
   },
   "outputs": [],
   "source": [
    "# 4. Find the transaction with highest fee and what is it's cost today ?"
   ]
  },
  {
   "cell_type": "code",
   "execution_count": 57,
   "id": "18e2d6b8",
   "metadata": {
    "ExecuteTime": {
     "end_time": "2022-02-09T03:49:31.739092Z",
     "start_time": "2022-02-09T03:49:31.737381Z"
    }
   },
   "outputs": [],
   "source": [
    "# 5. Do you think the above transaction is an outlier ? Can you come up with a theory to explain this transaction ?"
   ]
  },
  {
   "cell_type": "code",
   "execution_count": 58,
   "id": "93f13931",
   "metadata": {
    "ExecuteTime": {
     "end_time": "2022-02-09T03:49:31.744014Z",
     "start_time": "2022-02-09T03:49:31.740315Z"
    }
   },
   "outputs": [],
   "source": [
    "# 6. Find the block with highest average gas price. Does it have the above transaction ?"
   ]
  },
  {
   "cell_type": "markdown",
   "id": "bc3ee739",
   "metadata": {},
   "source": [
    "# Focus area : Block analytics\n",
    "\n",
    "Group by \"Block_Number\" to get block level stats"
   ]
  },
  {
   "cell_type": "code",
   "execution_count": 59,
   "id": "071661dd",
   "metadata": {
    "ExecuteTime": {
     "end_time": "2022-02-09T03:49:31.749206Z",
     "start_time": "2022-02-09T03:49:31.744778Z"
    }
   },
   "outputs": [],
   "source": [
    "#1. Find the block with highest number of transactions and how many transactions does it have"
   ]
  },
  {
   "cell_type": "code",
   "execution_count": 61,
   "id": "42bfce18",
   "metadata": {
    "ExecuteTime": {
     "end_time": "2022-02-09T03:49:31.778541Z",
     "start_time": "2022-02-09T03:49:31.776813Z"
    }
   },
   "outputs": [],
   "source": [
    "#2. Find the block with least number of transactions and how many transactions does it have"
   ]
  },
  {
   "cell_type": "code",
   "execution_count": 63,
   "id": "88971a91",
   "metadata": {
    "ExecuteTime": {
     "end_time": "2022-02-09T03:49:31.803486Z",
     "start_time": "2022-02-09T03:49:31.801821Z"
    }
   },
   "outputs": [],
   "source": [
    "# 3. Using etherscan.io, find the average block time during this period"
   ]
  },
  {
   "cell_type": "code",
   "execution_count": 65,
   "id": "caa17151",
   "metadata": {
    "ExecuteTime": {
     "end_time": "2022-02-09T03:49:31.827635Z",
     "start_time": "2022-02-09T03:49:31.825958Z"
    }
   },
   "outputs": [],
   "source": [
    "# 4. The first 8 characters (if its exists) of Tx_Data is the keccak256 hash of the function that is invoked in the transaction. Use https://www.4byte.directory/signatures/ to find a signature of the most common function during this time."
   ]
  }
 ],
 "metadata": {
  "kernelspec": {
   "display_name": "Python [conda env:pds]",
   "language": "python",
   "name": "conda-env-pds-py"
  },
  "language_info": {
   "codemirror_mode": {
    "name": "ipython",
    "version": 3
   },
   "file_extension": ".py",
   "mimetype": "text/x-python",
   "name": "python",
   "nbconvert_exporter": "python",
   "pygments_lexer": "ipython3",
   "version": "3.7.12"
  },
  "toc": {
   "base_numbering": 1,
   "nav_menu": {},
   "number_sections": true,
   "sideBar": true,
   "skip_h1_title": false,
   "title_cell": "Table of Contents",
   "title_sidebar": "Contents",
   "toc_cell": false,
   "toc_position": {
    "height": "calc(100% - 180px)",
    "left": "10px",
    "top": "150px",
    "width": "510.391px"
   },
   "toc_section_display": true,
   "toc_window_display": false
  }
 },
 "nbformat": 4,
 "nbformat_minor": 5
}
